{
 "cells": [
  {
   "cell_type": "code",
   "execution_count": 1,
   "metadata": {},
   "outputs": [
    {
     "data": {
      "text/html": [
       "<div>\n",
       "<style scoped>\n",
       "    .dataframe tbody tr th:only-of-type {\n",
       "        vertical-align: middle;\n",
       "    }\n",
       "\n",
       "    .dataframe tbody tr th {\n",
       "        vertical-align: top;\n",
       "    }\n",
       "\n",
       "    .dataframe thead th {\n",
       "        text-align: right;\n",
       "    }\n",
       "</style>\n",
       "<table border=\"1\" class=\"dataframe\">\n",
       "  <thead>\n",
       "    <tr style=\"text-align: right;\">\n",
       "      <th></th>\n",
       "      <th>rating_text</th>\n",
       "      <th>aggregate_rating</th>\n",
       "    </tr>\n",
       "  </thead>\n",
       "  <tbody>\n",
       "    <tr>\n",
       "      <th>0</th>\n",
       "      <td>Very Good</td>\n",
       "      <td>4.3</td>\n",
       "    </tr>\n",
       "    <tr>\n",
       "      <th>1</th>\n",
       "      <td>Excellent</td>\n",
       "      <td>4.5</td>\n",
       "    </tr>\n",
       "    <tr>\n",
       "      <th>2</th>\n",
       "      <td>Very Good</td>\n",
       "      <td>4.4</td>\n",
       "    </tr>\n",
       "    <tr>\n",
       "      <th>3</th>\n",
       "      <td>Very Good</td>\n",
       "      <td>4.1</td>\n",
       "    </tr>\n",
       "    <tr>\n",
       "      <th>4</th>\n",
       "      <td>Very Good</td>\n",
       "      <td>4.4</td>\n",
       "    </tr>\n",
       "    <tr>\n",
       "      <th>...</th>\n",
       "      <td>...</td>\n",
       "      <td>...</td>\n",
       "    </tr>\n",
       "    <tr>\n",
       "      <th>1175</th>\n",
       "      <td>Very Good</td>\n",
       "      <td>4.0</td>\n",
       "    </tr>\n",
       "    <tr>\n",
       "      <th>1176</th>\n",
       "      <td>Excellent</td>\n",
       "      <td>4.5</td>\n",
       "    </tr>\n",
       "    <tr>\n",
       "      <th>1177</th>\n",
       "      <td>Excellent</td>\n",
       "      <td>4.7</td>\n",
       "    </tr>\n",
       "    <tr>\n",
       "      <th>1178</th>\n",
       "      <td>Good</td>\n",
       "      <td>3.7</td>\n",
       "    </tr>\n",
       "    <tr>\n",
       "      <th>1179</th>\n",
       "      <td>Good</td>\n",
       "      <td>3.5</td>\n",
       "    </tr>\n",
       "  </tbody>\n",
       "</table>\n",
       "<p>1180 rows × 2 columns</p>\n",
       "</div>"
      ],
      "text/plain": [
       "     rating_text  aggregate_rating\n",
       "0      Very Good               4.3\n",
       "1      Excellent               4.5\n",
       "2      Very Good               4.4\n",
       "3      Very Good               4.1\n",
       "4      Very Good               4.4\n",
       "...          ...               ...\n",
       "1175   Very Good               4.0\n",
       "1176   Excellent               4.5\n",
       "1177   Excellent               4.7\n",
       "1178        Good               3.7\n",
       "1179        Good               3.5\n",
       "\n",
       "[1180 rows x 2 columns]"
      ]
     },
     "execution_count": 1,
     "metadata": {},
     "output_type": "execute_result"
    }
   ],
   "source": [
    "import pandas as pd\n",
    "import numpy as np\n",
    "from matplotlib import pyplot\n",
    "\n",
    "df = pd.read_csv('reviews.csv')  \n",
    "df"
   ]
  },
  {
   "cell_type": "code",
   "execution_count": 2,
   "metadata": {},
   "outputs": [
    {
     "name": "stdout",
     "output_type": "stream",
     "text": [
      "Very Good    490\n",
      "Good         346\n",
      "Excellent    194\n",
      "Average      119\n",
      "Not rated     26\n",
      "Poor           5\n",
      "Name: rating_text, dtype: int64\n",
      "\n",
      "max rating:  4.9\n",
      "min rating:  0.0\n"
     ]
    }
   ],
   "source": [
    "print(df['rating_text'].value_counts())\n",
    "print()\n",
    "print(\"max rating: \",df['aggregate_rating'].max())\n",
    "print(\"min rating: \",df['aggregate_rating'].min())"
   ]
  },
  {
   "cell_type": "code",
   "execution_count": 3,
   "metadata": {},
   "outputs": [
    {
     "name": "stdout",
     "output_type": "stream",
     "text": [
      "Very Good\n",
      "max rating:  4.4\n",
      "min rating:  4.0\n",
      "\n",
      "Excellent\n",
      "max rating:  4.9\n",
      "min rating:  4.5\n",
      "\n",
      "Poor\n",
      "max rating:  2.4\n",
      "min rating:  2.2\n",
      "\n",
      "Good\n",
      "max rating:  3.9\n",
      "min rating:  3.5\n",
      "\n",
      "Average\n",
      "max rating:  3.4\n",
      "min rating:  2.5\n",
      "\n",
      "Not rated\n",
      "max rating:  0.0\n",
      "min rating:  0.0\n",
      "\n"
     ]
    }
   ],
   "source": [
    "for column in df['rating_text'].unique():\n",
    "    print(column)\n",
    "    print(\"max rating: \",df.loc[df['rating_text']==column]['aggregate_rating'].max())\n",
    "    print(\"min rating: \",df.loc[df['rating_text']==column]['aggregate_rating'].min())\n",
    "    print()"
   ]
  },
  {
   "cell_type": "code",
   "execution_count": 4,
   "metadata": {},
   "outputs": [
    {
     "data": {
      "image/png": "[encoded data removed]",
      "text/plain": [
       "<Figure size 720x720 with 1 Axes>"
      ]
     },
     "metadata": {
      "needs_background": "light"
     },
     "output_type": "display_data"
    }
   ],
   "source": [
    "from matplotlib import pyplot as plt\n",
    "\n",
    "bins = np.linspace(0, 5, 100)\n",
    "\n",
    "plt.figure(figsize=(10,10)) \n",
    "for column in df['rating_text'].unique():\n",
    "    plt.hist(df.loc[df['rating_text']==column]['aggregate_rating'], bins, alpha=0.5, label=column)\n",
    "plt.legend(loc='upper left')\n",
    "plt.xlabel('rating')\n",
    "plt.ylabel('count')\n",
    "plt.show()\n"
   ]
  },
  {
   "cell_type": "code",
   "execution_count": null,
   "metadata": {},
   "outputs": [],
   "source": []
  }
 ],
 "metadata": {
  "kernelspec": {
   "display_name": "Python 3",
   "language": "python",
   "name": "python3"
  },
  "language_info": {
   "codemirror_mode": {
    "name": "ipython",
    "version": 3
   },
   "file_extension": ".py",
   "mimetype": "text/x-python",
   "name": "python",
   "nbconvert_exporter": "python",
   "pygments_lexer": "ipython3",
   "version": "3.8.5"
  }
 },
 "nbformat": 4,
 "nbformat_minor": 4
}
